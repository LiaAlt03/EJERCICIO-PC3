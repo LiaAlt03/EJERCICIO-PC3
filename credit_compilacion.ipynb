{
 "cells": [
  {
   "cell_type": "markdown",
   "metadata": {},
   "source": [
    "# Credito"
   ]
  },
  {
   "cell_type": "code",
   "execution_count": 1,
   "metadata": {},
   "outputs": [
    {
     "name": "stdout",
     "output_type": "stream",
     "text": [
      "AMEX\n"
     ]
    }
   ],
   "source": [
    "def validar_tarjeta(num_tarjeta):\n",
    "#Se invierte el numero y se extraen los digitos de 2 en 2\n",
    "    digitos=[int(digito) for digito in num_tarjeta[-2::-2]]\n",
    "#Se multiplica por 2 a cada numero que se extrajo\n",
    "    digitos=[2*int(digito) for digito in digitos]\n",
    "#Se suman los digitos de los numeros multiplicados anteriormente\n",
    "    digitos+=[int(digito) for digito in num_tarjeta[-1::-2]]\n",
    "#Se calcula la suma total de todos los digitos\n",
    "    suma_total=sum([int(digito)//10+int(digito)%10 for digito in digitos])\n",
    "#La suma total debe ser divisible por 10 para que la tarjeta sea valida\n",
    "    return suma_total%10==0\n",
    "\n",
    "def definir_tipo_tarjeta(num_tarjeta):\n",
    "#Verificamos la longitud del numero ingresado y que coincidan las condiciones de los primeros numeros\n",
    "    if len(num_tarjeta)==15 and (num_tarjeta[0:2]==\"34\" or num_tarjeta[0:2]==\"37\"):\n",
    "        return \"AMEX\"\n",
    "    elif len(num_tarjeta)==16 and (num_tarjeta[0:2] in (\"51\",\"52\",\"53\",\"54\",\"55\")):\n",
    "        return \"MASTERCARD\"\n",
    "    elif (len(num_tarjeta)==13 or len(num_tarjeta)==16) and num_tarjeta[0]==\"4\":\n",
    "        return \"VISA\"\n",
    "    else:\n",
    "        return \"INVALID\"\n",
    "\n",
    "def main():\n",
    "    num_tarjeta=input(\"Digite el numero de la tarjeta: \")\n",
    "    if validar_tarjeta(num_tarjeta):\n",
    "        tipo_tarjeta=definir_tipo_tarjeta(num_tarjeta)\n",
    "        print(tipo_tarjeta)\n",
    "    else:\n",
    "        print(\"INVALID\")\n",
    "\n",
    "main()"
   ]
  }
 ],
 "metadata": {
  "kernelspec": {
   "display_name": "Python 3",
   "language": "python",
   "name": "python3"
  },
  "language_info": {
   "codemirror_mode": {
    "name": "ipython",
    "version": 3
   },
   "file_extension": ".py",
   "mimetype": "text/x-python",
   "name": "python",
   "nbconvert_exporter": "python",
   "pygments_lexer": "ipython3",
   "version": "3.10.8"
  }
 },
 "nbformat": 4,
 "nbformat_minor": 2
}
